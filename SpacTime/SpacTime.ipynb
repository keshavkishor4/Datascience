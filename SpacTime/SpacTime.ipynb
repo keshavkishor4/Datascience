{
 "cells": [
  {
   "cell_type": "code",
   "execution_count": 2,
   "metadata": {},
   "outputs": [
    {
     "data": {
      "text/plain": [
       "[83,\n",
       " 89,\n",
       " 38,\n",
       " 10,\n",
       " 59,\n",
       " 86,\n",
       " 3,\n",
       " 32,\n",
       " 93,\n",
       " 24,\n",
       " 15,\n",
       " 75,\n",
       " 42,\n",
       " 79,\n",
       " 54,\n",
       " 73,\n",
       " 20,\n",
       " 74,\n",
       " 87,\n",
       " 88,\n",
       " 44,\n",
       " 45,\n",
       " 9,\n",
       " 77,\n",
       " 8,\n",
       " 43,\n",
       " 98,\n",
       " 27,\n",
       " 28,\n",
       " 19,\n",
       " 78,\n",
       " 90,\n",
       " 71,\n",
       " 33,\n",
       " 84,\n",
       " 14,\n",
       " 64,\n",
       " 62,\n",
       " 56,\n",
       " 0,\n",
       " 39,\n",
       " 51,\n",
       " 46,\n",
       " 70,\n",
       " 41,\n",
       " 81,\n",
       " 49,\n",
       " 40,\n",
       " 69,\n",
       " 25,\n",
       " 13,\n",
       " 80,\n",
       " 68,\n",
       " 12,\n",
       " 23,\n",
       " 2,\n",
       " 7,\n",
       " 17,\n",
       " 31,\n",
       " 94,\n",
       " 21,\n",
       " 82,\n",
       " 99,\n",
       " 11,\n",
       " 63,\n",
       " 92,\n",
       " 4,\n",
       " 37,\n",
       " 36,\n",
       " 76,\n",
       " 53,\n",
       " 97,\n",
       " 66,\n",
       " 95,\n",
       " 57,\n",
       " 60,\n",
       " 16,\n",
       " 55,\n",
       " 6,\n",
       " 35,\n",
       " 96,\n",
       " 1,\n",
       " 58,\n",
       " 50,\n",
       " 26,\n",
       " 85,\n",
       " 61,\n",
       " 48,\n",
       " 72,\n",
       " 65,\n",
       " 52,\n",
       " 30,\n",
       " 29,\n",
       " 22,\n",
       " 34,\n",
       " 47,\n",
       " 67,\n",
       " 18,\n",
       " 5,\n",
       " 91]"
      ]
     },
     "execution_count": 2,
     "metadata": {},
     "output_type": "execute_result"
    }
   ],
   "source": [
    "import numpy as np\n",
    "import random\n",
    "l = list(range(100))\n",
    "random.shuffle(l)\n",
    "\n",
    "l"
   ]
  },
  {
   "cell_type": "code",
   "execution_count": 3,
   "metadata": {},
   "outputs": [
    {
     "name": "stdout",
     "output_type": "stream",
     "text": [
      "Found\n"
     ]
    }
   ],
   "source": [
    "q = 32\n",
    "isFound = False\n",
    "for ele in l:\n",
    "    if ele == 32:\n",
    "        print(\"Found\")\n",
    "        isFound = True\n",
    "        break;\n",
    "if isFound == False:\n",
    "    print(\"Not Found\")"
   ]
  },
  {
   "cell_type": "code",
   "execution_count": 8,
   "metadata": {},
   "outputs": [
    {
     "data": {
      "text/plain": [
       "31"
      ]
     },
     "execution_count": 8,
     "metadata": {},
     "output_type": "execute_result"
    }
   ],
   "source": [
    "#What if the list is sorted? Can we search faster?\n",
    "# Show O(log n)\n",
    "\n",
    "import math\n",
    "\n",
    "#Source: http://www.geeksforgeeks.org/binary-search/ \n",
    "#Returns index of x in arr if present, else -1\n",
    "def binarySearch (arr, l, r, x):\n",
    " \n",
    "    # Check base case\n",
    "    if r >= l:\n",
    " \n",
    "        mid = l + math.floor((r - l)/2)\n",
    " \n",
    "        # If element is present at the middle itself\n",
    "        if arr[mid] == x:\n",
    "            return mid\n",
    "         \n",
    "        # If element is smaller than mid, then it can only\n",
    "        # be present in left subarray\n",
    "        elif arr[mid] > x:\n",
    "            return binarySearch(arr, l, mid-1, x)\n",
    " \n",
    "        # Else the element can only be present in right subarray\n",
    "        else:\n",
    "            return binarySearch(arr, mid+1, r, x)\n",
    " \n",
    "    else:\n",
    "        # Element is not present in the array\n",
    "        return -1\n",
    "\n",
    "\n",
    "l.sort();\n",
    "arr = l;\n",
    "q =31;\n",
    "binarySearch(arr,0,len(arr)-1,q)\n",
    "\n"
   ]
  },
  {
   "cell_type": "code",
   "execution_count": null,
   "metadata": {},
   "outputs": [],
   "source": []
  }
 ],
 "metadata": {
  "kernelspec": {
   "display_name": "Python 3",
   "language": "python",
   "name": "python3"
  },
  "language_info": {
   "codemirror_mode": {
    "name": "ipython",
    "version": 3
   },
   "file_extension": ".py",
   "mimetype": "text/x-python",
   "name": "python",
   "nbconvert_exporter": "python",
   "pygments_lexer": "ipython3",
   "version": "3.7.3"
  }
 },
 "nbformat": 4,
 "nbformat_minor": 2
}
